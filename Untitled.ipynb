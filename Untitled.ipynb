{
 "cells": [
  {
   "cell_type": "code",
   "execution_count": 1,
   "metadata": {},
   "outputs": [],
   "source": [
    "import os\n",
    "import warnings\n",
    "warnings.filterwarnings('ignore')\n",
    "import numpy as np \n",
    "import pandas as pd\n",
    "import matplotlib.pyplot as plt\n",
    "import datetime"
   ]
  },
  {
   "cell_type": "markdown",
   "metadata": {},
   "source": [
    "# Twitter Coronavirus analysis"
   ]
  },
  {
   "cell_type": "markdown",
   "metadata": {},
   "source": [
    "Data: scraped from Twitter using polish word \"koronawirus\" as a keyword. \n",
    "\n",
    "Agenda:\n",
    "\n",
    "1. EDA\n",
    "\n",
    "2. idk"
   ]
  },
  {
   "cell_type": "markdown",
   "metadata": {},
   "source": [
    "# 1. EDA"
   ]
  },
  {
   "cell_type": "code",
   "execution_count": 2,
   "metadata": {},
   "outputs": [
    {
     "data": {
      "text/html": [
       "<div>\n",
       "<style scoped>\n",
       "    .dataframe tbody tr th:only-of-type {\n",
       "        vertical-align: middle;\n",
       "    }\n",
       "\n",
       "    .dataframe tbody tr th {\n",
       "        vertical-align: top;\n",
       "    }\n",
       "\n",
       "    .dataframe thead th {\n",
       "        text-align: right;\n",
       "    }\n",
       "</style>\n",
       "<table border=\"1\" class=\"dataframe\">\n",
       "  <thead>\n",
       "    <tr style=\"text-align: right;\">\n",
       "      <th></th>\n",
       "      <th>User</th>\n",
       "      <th>Text</th>\n",
       "      <th>Date</th>\n",
       "      <th>Favorites</th>\n",
       "      <th>Retweets</th>\n",
       "      <th>Mentions</th>\n",
       "      <th>Hashtags</th>\n",
       "    </tr>\n",
       "  </thead>\n",
       "  <tbody>\n",
       "    <tr>\n",
       "      <th>0</th>\n",
       "      <td>Emill1984</td>\n",
       "      <td>Ciekawe czasy nastaly, ze atak #koronawirus.a ...</td>\n",
       "      <td>2020-01-30 23:59:58+00:00</td>\n",
       "      <td>0</td>\n",
       "      <td>13</td>\n",
       "      <td>NaN</td>\n",
       "      <td>#koronawirus</td>\n",
       "    </tr>\n",
       "    <tr>\n",
       "      <th>1</th>\n",
       "      <td>DawidParzyk</td>\n",
       "      <td>Robot o nazwie Little Peanut dostarcza żywność...</td>\n",
       "      <td>2020-01-30 23:58:16+00:00</td>\n",
       "      <td>2</td>\n",
       "      <td>0</td>\n",
       "      <td>NaN</td>\n",
       "      <td>#koronawirus #wirus #chiny #wuhan #technologia...</td>\n",
       "    </tr>\n",
       "    <tr>\n",
       "      <th>2</th>\n",
       "      <td>SamPereira_</td>\n",
       "      <td>Marszałek Grodzki o Polsce: W Brukseli boją si...</td>\n",
       "      <td>2020-01-30 23:55:13+00:00</td>\n",
       "      <td>10</td>\n",
       "      <td>27</td>\n",
       "      <td>NaN</td>\n",
       "      <td>NaN</td>\n",
       "    </tr>\n",
       "    <tr>\n",
       "      <th>3</th>\n",
       "      <td>mk1977_ewa</td>\n",
       "      <td>Koronawirus i lukrecja - odpowiadam hejterom h...</td>\n",
       "      <td>2020-01-30 23:51:40+00:00</td>\n",
       "      <td>0</td>\n",
       "      <td>0</td>\n",
       "      <td>@YouTube</td>\n",
       "      <td>NaN</td>\n",
       "    </tr>\n",
       "    <tr>\n",
       "      <th>4</th>\n",
       "      <td>MediaNarodoweMN</td>\n",
       "      <td>Podaj dalej, dziękujemy 👍 Czy #koronawirus jes...</td>\n",
       "      <td>2020-01-30 23:50:45+00:00</td>\n",
       "      <td>13</td>\n",
       "      <td>20</td>\n",
       "      <td>NaN</td>\n",
       "      <td>#koronawirus</td>\n",
       "    </tr>\n",
       "  </tbody>\n",
       "</table>\n",
       "</div>"
      ],
      "text/plain": [
       "              User                                               Text  \\\n",
       "0        Emill1984  Ciekawe czasy nastaly, ze atak #koronawirus.a ...   \n",
       "1      DawidParzyk  Robot o nazwie Little Peanut dostarcza żywność...   \n",
       "2      SamPereira_  Marszałek Grodzki o Polsce: W Brukseli boją si...   \n",
       "3       mk1977_ewa  Koronawirus i lukrecja - odpowiadam hejterom h...   \n",
       "4  MediaNarodoweMN  Podaj dalej, dziękujemy 👍 Czy #koronawirus jes...   \n",
       "\n",
       "                        Date  Favorites  Retweets  Mentions  \\\n",
       "0  2020-01-30 23:59:58+00:00          0        13       NaN   \n",
       "1  2020-01-30 23:58:16+00:00          2         0       NaN   \n",
       "2  2020-01-30 23:55:13+00:00         10        27       NaN   \n",
       "3  2020-01-30 23:51:40+00:00          0         0  @YouTube   \n",
       "4  2020-01-30 23:50:45+00:00         13        20       NaN   \n",
       "\n",
       "                                            Hashtags  \n",
       "0                                       #koronawirus  \n",
       "1  #koronawirus #wirus #chiny #wuhan #technologia...  \n",
       "2                                                NaN  \n",
       "3                                                NaN  \n",
       "4                                       #koronawirus  "
      ]
     },
     "execution_count": 2,
     "metadata": {},
     "output_type": "execute_result"
    }
   ],
   "source": [
    "data = pd.read_csv('C:\\\\Users\\\\mkudl\\\\Documents\\\\fake_news_proj\\\\DATA_CLEAN.csv', sep = ',', index_col = [0])\n",
    "data.head()"
   ]
  },
  {
   "cell_type": "code",
   "execution_count": 3,
   "metadata": {
    "scrolled": true
   },
   "outputs": [
    {
     "name": "stdout",
     "output_type": "stream",
     "text": [
      "<class 'pandas.core.frame.DataFrame'>\n",
      "Int64Index: 4215 entries, 0 to 4214\n",
      "Data columns (total 7 columns):\n",
      " #   Column     Non-Null Count  Dtype \n",
      "---  ------     --------------  ----- \n",
      " 0   User       4215 non-null   object\n",
      " 1   Text       4215 non-null   object\n",
      " 2   Date       4215 non-null   object\n",
      " 3   Favorites  4215 non-null   int64 \n",
      " 4   Retweets   4215 non-null   int64 \n",
      " 5   Mentions   548 non-null    object\n",
      " 6   Hashtags   2140 non-null   object\n",
      "dtypes: int64(2), object(5)\n",
      "memory usage: 263.4+ KB\n"
     ]
    }
   ],
   "source": [
    "data.info()"
   ]
  },
  {
   "cell_type": "code",
   "execution_count": 4,
   "metadata": {},
   "outputs": [],
   "source": [
    "data['Date'] = pd.to_datetime(data['Date'])"
   ]
  },
  {
   "cell_type": "code",
   "execution_count": 5,
   "metadata": {},
   "outputs": [
    {
     "name": "stdout",
     "output_type": "stream",
     "text": [
      "<class 'pandas.core.frame.DataFrame'>\n",
      "Int64Index: 4215 entries, 0 to 4214\n",
      "Data columns (total 7 columns):\n",
      " #   Column     Non-Null Count  Dtype              \n",
      "---  ------     --------------  -----              \n",
      " 0   User       4215 non-null   object             \n",
      " 1   Text       4215 non-null   object             \n",
      " 2   Date       4215 non-null   datetime64[ns, UTC]\n",
      " 3   Favorites  4215 non-null   int64              \n",
      " 4   Retweets   4215 non-null   int64              \n",
      " 5   Mentions   548 non-null    object             \n",
      " 6   Hashtags   2140 non-null   object             \n",
      "dtypes: datetime64[ns, UTC](1), int64(2), object(4)\n",
      "memory usage: 263.4+ KB\n"
     ]
    }
   ],
   "source": [
    "data.info()"
   ]
  },
  {
   "cell_type": "code",
   "execution_count": null,
   "metadata": {},
   "outputs": [],
   "source": []
  },
  {
   "cell_type": "code",
   "execution_count": 6,
   "metadata": {},
   "outputs": [
    {
     "data": {
      "text/plain": [
       "<matplotlib.axes._subplots.AxesSubplot at 0x192daa07820>"
      ]
     },
     "execution_count": 6,
     "metadata": {},
     "output_type": "execute_result"
    },
    {
     "data": {
      "image/png": "[encoded data removed]",
      "text/plain": [
       "<Figure size 432x288 with 1 Axes>"
      ]
     },
     "metadata": {
      "needs_background": "light"
     },
     "output_type": "display_data"
    }
   ],
   "source": [
    "data['User'].value_counts()[:20].plot(kind = 'bar')"
   ]
  },
  {
   "cell_type": "code",
   "execution_count": 7,
   "metadata": {
    "scrolled": true
   },
   "outputs": [
    {
     "data": {
      "text/plain": [
       "<matplotlib.axes._subplots.AxesSubplot at 0x192db2fe190>"
      ]
     },
     "execution_count": 7,
     "metadata": {},
     "output_type": "execute_result"
    },
    {
     "data": {
      "image/png": "[encoded data removed]",
      "text/plain": [
       "<Figure size 432x288 with 1 Axes>"
      ]
     },
     "metadata": {
      "needs_background": "light"
     },
     "output_type": "display_data"
    }
   ],
   "source": [
    "data[['User', 'Retweets']].groupby(['User']).sum().sort_values(by=['Retweets'], ascending = False)[:20].plot(kind='bar')"
   ]
  },
  {
   "cell_type": "code",
   "execution_count": 8,
   "metadata": {},
   "outputs": [
    {
     "data": {
      "text/plain": [
       "<matplotlib.axes._subplots.AxesSubplot at 0x192db403250>"
      ]
     },
     "execution_count": 8,
     "metadata": {},
     "output_type": "execute_result"
    },
    {
     "data": {
      "image/png": "[encoded data removed]",
      "text/plain": [
       "<Figure size 432x288 with 1 Axes>"
      ]
     },
     "metadata": {
      "needs_background": "light"
     },
     "output_type": "display_data"
    }
   ],
   "source": [
    "data[['User', 'Retweets']].groupby(['User']).mean().sort_values(by=['Retweets'], ascending = False)[:20].plot(kind='bar')"
   ]
  },
  {
   "cell_type": "code",
   "execution_count": 9,
   "metadata": {},
   "outputs": [
    {
     "data": {
      "text/html": [
       "<div>\n",
       "<style scoped>\n",
       "    .dataframe tbody tr th:only-of-type {\n",
       "        vertical-align: middle;\n",
       "    }\n",
       "\n",
       "    .dataframe tbody tr th {\n",
       "        vertical-align: top;\n",
       "    }\n",
       "\n",
       "    .dataframe thead th {\n",
       "        text-align: right;\n",
       "    }\n",
       "</style>\n",
       "<table border=\"1\" class=\"dataframe\">\n",
       "  <thead>\n",
       "    <tr style=\"text-align: right;\">\n",
       "      <th></th>\n",
       "      <th>Favorites</th>\n",
       "      <th>Hashtags</th>\n",
       "    </tr>\n",
       "    <tr>\n",
       "      <th>Date</th>\n",
       "      <th></th>\n",
       "      <th></th>\n",
       "    </tr>\n",
       "  </thead>\n",
       "  <tbody>\n",
       "    <tr>\n",
       "      <th>2020-01-30 23:59:58+00:00</th>\n",
       "      <td>0</td>\n",
       "      <td>#koronawirus</td>\n",
       "    </tr>\n",
       "    <tr>\n",
       "      <th>2020-01-30 23:58:16+00:00</th>\n",
       "      <td>2</td>\n",
       "      <td>#koronawirus #wirus #chiny #wuhan #technologia...</td>\n",
       "    </tr>\n",
       "    <tr>\n",
       "      <th>2020-01-30 23:55:13+00:00</th>\n",
       "      <td>10</td>\n",
       "      <td>NaN</td>\n",
       "    </tr>\n",
       "    <tr>\n",
       "      <th>2020-01-30 23:51:40+00:00</th>\n",
       "      <td>0</td>\n",
       "      <td>NaN</td>\n",
       "    </tr>\n",
       "    <tr>\n",
       "      <th>2020-01-30 23:50:45+00:00</th>\n",
       "      <td>13</td>\n",
       "      <td>#koronawirus</td>\n",
       "    </tr>\n",
       "    <tr>\n",
       "      <th>...</th>\n",
       "      <td>...</td>\n",
       "      <td>...</td>\n",
       "    </tr>\n",
       "    <tr>\n",
       "      <th>2020-01-16 11:40:05+00:00</th>\n",
       "      <td>0</td>\n",
       "      <td>NaN</td>\n",
       "    </tr>\n",
       "    <tr>\n",
       "      <th>2020-01-16 05:54:06+00:00</th>\n",
       "      <td>1</td>\n",
       "      <td>NaN</td>\n",
       "    </tr>\n",
       "    <tr>\n",
       "      <th>2020-01-14 15:17:56+00:00</th>\n",
       "      <td>0</td>\n",
       "      <td>NaN</td>\n",
       "    </tr>\n",
       "    <tr>\n",
       "      <th>2020-01-10 10:30:13+00:00</th>\n",
       "      <td>0</td>\n",
       "      <td>#ASF #SARS</td>\n",
       "    </tr>\n",
       "    <tr>\n",
       "      <th>2020-01-09 11:41:10+00:00</th>\n",
       "      <td>3</td>\n",
       "      <td>#Chiny #Wuhan</td>\n",
       "    </tr>\n",
       "  </tbody>\n",
       "</table>\n",
       "<p>4215 rows × 2 columns</p>\n",
       "</div>"
      ],
      "text/plain": [
       "                           Favorites  \\\n",
       "Date                                   \n",
       "2020-01-30 23:59:58+00:00          0   \n",
       "2020-01-30 23:58:16+00:00          2   \n",
       "2020-01-30 23:55:13+00:00         10   \n",
       "2020-01-30 23:51:40+00:00          0   \n",
       "2020-01-30 23:50:45+00:00         13   \n",
       "...                              ...   \n",
       "2020-01-16 11:40:05+00:00          0   \n",
       "2020-01-16 05:54:06+00:00          1   \n",
       "2020-01-14 15:17:56+00:00          0   \n",
       "2020-01-10 10:30:13+00:00          0   \n",
       "2020-01-09 11:41:10+00:00          3   \n",
       "\n",
       "                                                                    Hashtags  \n",
       "Date                                                                          \n",
       "2020-01-30 23:59:58+00:00                                       #koronawirus  \n",
       "2020-01-30 23:58:16+00:00  #koronawirus #wirus #chiny #wuhan #technologia...  \n",
       "2020-01-30 23:55:13+00:00                                                NaN  \n",
       "2020-01-30 23:51:40+00:00                                                NaN  \n",
       "2020-01-30 23:50:45+00:00                                       #koronawirus  \n",
       "...                                                                      ...  \n",
       "2020-01-16 11:40:05+00:00                                                NaN  \n",
       "2020-01-16 05:54:06+00:00                                                NaN  \n",
       "2020-01-14 15:17:56+00:00                                                NaN  \n",
       "2020-01-10 10:30:13+00:00                                         #ASF #SARS  \n",
       "2020-01-09 11:41:10+00:00                                      #Chiny #Wuhan  \n",
       "\n",
       "[4215 rows x 2 columns]"
      ]
     },
     "execution_count": 9,
     "metadata": {},
     "output_type": "execute_result"
    }
   ],
   "source": [
    "tweets_dates = pd.DataFrame(data[['Date', 'Favorites', 'Hashtags']])\n",
    "tweets_dates.set_index('Date')"
   ]
  },
  {
   "cell_type": "code",
   "execution_count": 21,
   "metadata": {},
   "outputs": [
    {
     "name": "stdout",
     "output_type": "stream",
     "text": [
      "[#koronawirus]                                                                               775\n",
      "[#koronavirus]                                                                               148\n",
      "[#Koronawirus]                                                                                58\n",
      "[#koronawirus, #Wuhan]                                                                        26\n",
      "[#koronawirus, #coronavirus]                                                                  25\n",
      "                                                                                            ... \n",
      "[#koronawirus, #koronavirus, #coronavirus, #WuhanCoronovirus, #WuhanPneumonia, #2019nCoV]      1\n",
      "[#rzesz]                                                                                       1\n",
      "[#GIE, #WOJNYHANDLOWE]                                                                         1\n",
      "[#koronavirus, #coronarovirus]                                                                 1\n",
      "[#KoronaWirus, #WeszloFM]                                                                      1\n",
      "Name: Hashtags, Length: 855, dtype: int64\n"
     ]
    }
   ],
   "source": [
    "print(tweets_dates.Hashtags.str.split().value_counts())"
   ]
  },
  {
   "cell_type": "code",
   "execution_count": null,
   "metadata": {},
   "outputs": [],
   "source": []
  },
  {
   "cell_type": "code",
   "execution_count": null,
   "metadata": {},
   "outputs": [],
   "source": []
  }
 ],
 "metadata": {
  "kernelspec": {
   "display_name": "Python 3",
   "language": "python",
   "name": "python3"
  },
  "language_info": {
   "codemirror_mode": {
    "name": "ipython",
    "version": 3
   },
   "file_extension": ".py",
   "mimetype": "text/x-python",
   "name": "python",
   "nbconvert_exporter": "python",
   "pygments_lexer": "ipython3",
   "version": "3.8.3"
  }
 },
 "nbformat": 4,
 "nbformat_minor": 4
}
